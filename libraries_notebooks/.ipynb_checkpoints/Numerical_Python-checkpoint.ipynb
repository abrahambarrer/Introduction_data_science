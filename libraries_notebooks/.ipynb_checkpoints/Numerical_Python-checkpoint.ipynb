{
 "cells": [
  {
   "cell_type": "code",
   "execution_count": 1,
   "id": "7f3a4d1c",
   "metadata": {},
   "outputs": [],
   "source": [
    "import numpy as np"
   ]
  },
  {
   "cell_type": "markdown",
   "id": "2b0af3fe",
   "metadata": {},
   "source": [
    "## Numpy: introducción\n",
    "Numpy es una librería que introduce estructuras de arreglos para realizar operaciones matemáticas básicas."
   ]
  },
  {
   "cell_type": "markdown",
   "id": "12e148b0",
   "metadata": {},
   "source": [
    "### Arreglos\n",
    "\n",
    "Los arreglos son colecciones de elementos del mismo tipo. En numpy los elementos son de tipo *dtype*.\n",
    "* **Dimension/rank**: número de ejes o índices necesarios para seleccionar un elemento del arreglo.\n",
    "* **Shape**: una tupla que representa el número de elementos en cada dimensión.\n",
    "\n",
    "Los arreglos de una dimensión se conocen como vectores; los arreglos de dos dimensiones son matrices; y los arreglos de tres o más dimensiones se llaman tensores."
   ]
  },
  {
   "cell_type": "markdown",
   "id": "b3626e54",
   "metadata": {},
   "source": [
    "### `ndarray`\n",
    "La clase `ndarray` tiene múltiples funciones para crear arreglos. Numpy almacena un objeto con los siguientes campos:\n",
    "* dtype: el tipo de dato.\n",
    "* dimensions: número de dimensiones.\n",
    "* strides: una tupla con el número de bytes necesarios para *avanzar* en una dimensión.\n",
    "* data: el objeto."
   ]
  },
  {
   "cell_type": "markdown",
   "id": "9616fa47",
   "metadata": {},
   "source": [
    "### `Array()`\n",
    "La función `array()` recibe un argumento y devuelve un arreglo tipo `ndarray`.\n",
    "```python\n",
    "np.array(sequence) # Secuencia, p. ej. listas, tuplas, ...\n",
    "```\n",
    "Los siguientes son arreglos de una, dos y tres dimensiones."
   ]
  },
  {
   "cell_type": "code",
   "execution_count": 2,
   "id": "d9a67127",
   "metadata": {},
   "outputs": [
    {
     "data": {
      "text/plain": [
       "array([ 1, 10, 20])"
      ]
     },
     "execution_count": 2,
     "metadata": {},
     "output_type": "execute_result"
    }
   ],
   "source": [
    "np.array([1,10,20])"
   ]
  },
  {
   "cell_type": "code",
   "execution_count": 3,
   "id": "6fd1c7a0",
   "metadata": {},
   "outputs": [
    {
     "data": {
      "text/plain": [
       "array([[ 1,  2,  3,  4],\n",
       "       [10, 11, 12, 13],\n",
       "       [20, 21, 22, 23]])"
      ]
     },
     "execution_count": 3,
     "metadata": {},
     "output_type": "execute_result"
    }
   ],
   "source": [
    "m = np.array([[1,2,3,4],[10,11,12,13],[20,21,22,23]])\n",
    "m"
   ]
  },
  {
   "cell_type": "code",
   "execution_count": 4,
   "id": "383af3f3",
   "metadata": {},
   "outputs": [
    {
     "data": {
      "text/plain": [
       "array([[[  1,   2,   3,   4],\n",
       "        [ 10,  11,  12,  13],\n",
       "        [ 20,  21,  22,  23]],\n",
       "\n",
       "       [[101, 102, 103, 104],\n",
       "        [110, 111, 112, 113],\n",
       "        [120, 121, 122, 123]]])"
      ]
     },
     "execution_count": 4,
     "metadata": {},
     "output_type": "execute_result"
    }
   ],
   "source": [
    "t = np.array([[[1,2,3,4],[10,11,12,13],[20,21,22,23]],[[101,102,103,104],[110,111,112,113],[120,121,122,123]]])\n",
    "t"
   ]
  },
  {
   "cell_type": "markdown",
   "id": "a19e3e32",
   "metadata": {},
   "source": [
    "Note que los arreglos se construyen con brackets, de modo que hay brackets más internos y otros más externos. Los elementos del nivel más interno se imprimen de izquierda a derecha, y los siguientes de arriba hacia abajo. Algunos atributos de los arreglos son:\n",
    "```python\n",
    "array.shape\n",
    "array.ndim\n",
    "array.strides\n",
    "```\n",
    "* Los elementos de un arreglo deben ser del mismo tipo, sin embargo, las secuencias de elementos pueden ser de diferente tipo como listas, tuplas, etc.\n",
    "* Si se utiliza el argumento `dtype='object'` una serie de secuencias serán convertidas en un arreglo unidimensional.\n",
    "```python\n",
    "np.array([...], dtype='object') # Arreglo unidimensional\n",
    "```"
   ]
  },
  {
   "cell_type": "markdown",
   "id": "0ece750d",
   "metadata": {},
   "source": [
    "### `arange()`\n",
    "La función `arange()` genera un arreglo en secuencia similar a `range()`. La función permite ingresar el tipo de elementos y un paso con punto flotante.\n",
    "```python\n",
    "np.arange(a, b, step, dtype='...') # Arreglo de la forma [a,b) con paso step\n",
    "```"
   ]
  },
  {
   "cell_type": "code",
   "execution_count": 5,
   "id": "b199c1a3",
   "metadata": {},
   "outputs": [
    {
     "data": {
      "text/plain": [
       "array([1. , 1.6, 2.2, 2.8, 3.4, 4. , 4.6, 5.2, 5.8, 6.4, 7. , 7.6, 8.2,\n",
       "       8.8, 9.4])"
      ]
     },
     "execution_count": 5,
     "metadata": {},
     "output_type": "execute_result"
    }
   ],
   "source": [
    "np.arange(1,10,.6)"
   ]
  },
  {
   "cell_type": "markdown",
   "id": "2cbfece3",
   "metadata": {},
   "source": [
    "La función `reshape` permite reorganizar un arreglo unidimensional para crear arreglos de diferente dimensión. La función recibe una tupla de la forma *shape* para la organización. La tupla debe ser equivalente a la longitud del arreglo original."
   ]
  },
  {
   "cell_type": "code",
   "execution_count": 8,
   "id": "bf0b977b",
   "metadata": {},
   "outputs": [
    {
     "data": {
      "text/plain": [
       "array([ 0,  1,  2,  3,  4,  5,  6,  7,  8,  9, 10, 11, 12, 13, 14, 15])"
      ]
     },
     "execution_count": 8,
     "metadata": {},
     "output_type": "execute_result"
    }
   ],
   "source": [
    "teseracto = np.arange(16)\n",
    "teseracto"
   ]
  },
  {
   "cell_type": "code",
   "execution_count": 9,
   "id": "a61c334e",
   "metadata": {},
   "outputs": [
    {
     "data": {
      "text/plain": [
       "array([[[[ 0,  1],\n",
       "         [ 2,  3]],\n",
       "\n",
       "        [[ 4,  5],\n",
       "         [ 6,  7]]],\n",
       "\n",
       "\n",
       "       [[[ 8,  9],\n",
       "         [10, 11]],\n",
       "\n",
       "        [[12, 13],\n",
       "         [14, 15]]]])"
      ]
     },
     "execution_count": 9,
     "metadata": {},
     "output_type": "execute_result"
    }
   ],
   "source": [
    "teseracto.reshape(2,2,2,2) # Teseracto; 2^4 = 16"
   ]
  },
  {
   "cell_type": "markdown",
   "id": "742eddd5",
   "metadata": {},
   "source": [
    "### `linspace()`"
   ]
  },
  {
   "cell_type": "code",
   "execution_count": null,
   "id": "06356408",
   "metadata": {},
   "outputs": [],
   "source": []
  }
 ],
 "metadata": {
  "kernelspec": {
   "display_name": "Python [conda env:conda_env]",
   "language": "python",
   "name": "conda-env-conda_env-py"
  },
  "language_info": {
   "codemirror_mode": {
    "name": "ipython",
    "version": 3
   },
   "file_extension": ".py",
   "mimetype": "text/x-python",
   "name": "python",
   "nbconvert_exporter": "python",
   "pygments_lexer": "ipython3",
   "version": "3.12.4"
  }
 },
 "nbformat": 4,
 "nbformat_minor": 5
}
