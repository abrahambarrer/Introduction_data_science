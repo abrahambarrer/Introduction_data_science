{
 "cells": [
  {
   "cell_type": "code",
   "execution_count": 1,
   "id": "7f3a4d1c",
   "metadata": {},
   "outputs": [],
   "source": [
    "import numpy as np"
   ]
  },
  {
   "cell_type": "markdown",
   "id": "2b0af3fe",
   "metadata": {},
   "source": [
    "## Numpy: introducción\n",
    "Numpy es una librería que introduce estructuras de arreglos para realizar operaciones matemáticas básicas."
   ]
  },
  {
   "cell_type": "markdown",
   "id": "12e148b0",
   "metadata": {},
   "source": [
    "### Arreglos\n",
    "\n",
    "Los arreglos son colecciones de elementos del mismo tipo. En numpy los elementos son de tipo *dtype*.\n",
    "* **Dimension/rank**: número de ejes o índices necesarios para seleccionar un elemento del arreglo.\n",
    "* **Shape**: una tupla que representa el número de elementos en cada dimensión.\n",
    "\n",
    "Los arreglos de una dimensión se conocen como vectores; los arreglos de dos dimensiones son matrices; y los arreglos de tres o más dimensiones se llaman tensores."
   ]
  },
  {
   "cell_type": "markdown",
   "id": "b3626e54",
   "metadata": {},
   "source": [
    "### `ndarray`\n",
    "La clase `ndarray` tiene múltiples funciones para crear arreglos. Numpy almacena un objeto con los siguientes campos:\n",
    "* dtype: el tipo de dato.\n",
    "* dimensions: número de dimensiones.\n",
    "* strides: una tupla con el número de bytes necesarios para *avanzar* en una dimensión.\n",
    "* data: el objeto."
   ]
  },
  {
   "cell_type": "markdown",
   "id": "9616fa47",
   "metadata": {},
   "source": [
    "### `Array()`\n",
    "La función `array()` recibe un argumento y devuelve un arreglo tipo `ndarray`.\n",
    "```python\n",
    "np.array(sequence) # Secuencia, p. ej. listas, tuplas, ...\n",
    "```\n",
    "Los siguientes son arreglos de una, dos y tres dimensiones."
   ]
  },
  {
   "cell_type": "code",
   "execution_count": 2,
   "id": "d9a67127",
   "metadata": {},
   "outputs": [
    {
     "data": {
      "text/plain": [
       "array([ 1, 10, 20])"
      ]
     },
     "execution_count": 2,
     "metadata": {},
     "output_type": "execute_result"
    }
   ],
   "source": [
    "np.array([1,10,20])"
   ]
  },
  {
   "cell_type": "code",
   "execution_count": 3,
   "id": "6fd1c7a0",
   "metadata": {},
   "outputs": [
    {
     "data": {
      "text/plain": [
       "array([[ 1,  2,  3,  4],\n",
       "       [10, 11, 12, 13],\n",
       "       [20, 21, 22, 23]])"
      ]
     },
     "execution_count": 3,
     "metadata": {},
     "output_type": "execute_result"
    }
   ],
   "source": [
    "m = np.array([[1,2,3,4],[10,11,12,13],[20,21,22,23]])\n",
    "m"
   ]
  },
  {
   "cell_type": "code",
   "execution_count": 4,
   "id": "383af3f3",
   "metadata": {},
   "outputs": [
    {
     "data": {
      "text/plain": [
       "array([[[  1,   2,   3,   4],\n",
       "        [ 10,  11,  12,  13],\n",
       "        [ 20,  21,  22,  23]],\n",
       "\n",
       "       [[101, 102, 103, 104],\n",
       "        [110, 111, 112, 113],\n",
       "        [120, 121, 122, 123]]])"
      ]
     },
     "execution_count": 4,
     "metadata": {},
     "output_type": "execute_result"
    }
   ],
   "source": [
    "t = np.array([[[1,2,3,4],[10,11,12,13],[20,21,22,23]],[[101,102,103,104],[110,111,112,113],[120,121,122,123]]])\n",
    "t"
   ]
  },
  {
   "cell_type": "markdown",
   "id": "a19e3e32",
   "metadata": {},
   "source": [
    "Note que los arreglos se construyen con brackets, de modo que hay brackets más internos y otros más externos. Los elementos del nivel más interno se imprimen de izquierda a derecha, y los siguientes de arriba hacia abajo. Algunos atributos de los arreglos son:\n",
    "```python\n",
    "array.shape\n",
    "array.ndim\n",
    "array.strides\n",
    "```\n",
    "* Los elementos de un arreglo deben ser del mismo tipo, sin embargo, las secuencias de elementos pueden ser de diferente tipo como listas, tuplas, etc.\n",
    "* Si se utiliza el argumento `dtype='object'` una serie de secuencias serán convertidas en un arreglo unidimensional.\n",
    "```python\n",
    "np.array([...], dtype='object') # Arreglo unidimensional\n",
    "```"
   ]
  },
  {
   "cell_type": "markdown",
   "id": "0ece750d",
   "metadata": {},
   "source": [
    "### `arange()`\n",
    "La función `arange()` genera un arreglo en secuencia similar a `range()`. La función permite ingresar el tipo de elementos y un paso con punto flotante.\n",
    "```python\n",
    "np.arange(a, b, step, dtype='...') # Arreglo de la forma [a,b) con paso step\n",
    "```"
   ]
  },
  {
   "cell_type": "code",
   "execution_count": 5,
   "id": "b199c1a3",
   "metadata": {},
   "outputs": [
    {
     "data": {
      "text/plain": [
       "array([1. , 1.6, 2.2, 2.8, 3.4, 4. , 4.6, 5.2, 5.8, 6.4, 7. , 7.6, 8.2,\n",
       "       8.8, 9.4])"
      ]
     },
     "execution_count": 5,
     "metadata": {},
     "output_type": "execute_result"
    }
   ],
   "source": [
    "np.arange(1,10,.6)"
   ]
  },
  {
   "cell_type": "markdown",
   "id": "2cbfece3",
   "metadata": {},
   "source": [
    "La función `reshape` permite reorganizar un arreglo unidimensional para crear arreglos de diferente dimensión. La función recibe una tupla de la forma *shape* para la organización. La tupla debe ser equivalente a la longitud del arreglo original."
   ]
  },
  {
   "cell_type": "code",
   "execution_count": 6,
   "id": "bf0b977b",
   "metadata": {},
   "outputs": [
    {
     "data": {
      "text/plain": [
       "array([ 0,  1,  2,  3,  4,  5,  6,  7,  8,  9, 10, 11, 12, 13, 14, 15])"
      ]
     },
     "execution_count": 6,
     "metadata": {},
     "output_type": "execute_result"
    }
   ],
   "source": [
    "teseracto = np.arange(16)\n",
    "teseracto"
   ]
  },
  {
   "cell_type": "code",
   "execution_count": 7,
   "id": "a61c334e",
   "metadata": {},
   "outputs": [
    {
     "data": {
      "text/plain": [
       "array([[[[ 0,  1],\n",
       "         [ 2,  3]],\n",
       "\n",
       "        [[ 4,  5],\n",
       "         [ 6,  7]]],\n",
       "\n",
       "\n",
       "       [[[ 8,  9],\n",
       "         [10, 11]],\n",
       "\n",
       "        [[12, 13],\n",
       "         [14, 15]]]])"
      ]
     },
     "execution_count": 7,
     "metadata": {},
     "output_type": "execute_result"
    }
   ],
   "source": [
    "teseracto.reshape(2,2,2,2) # Teseracto; 2^4 = 16"
   ]
  },
  {
   "cell_type": "markdown",
   "id": "742eddd5",
   "metadata": {},
   "source": [
    "### `linspace()`\n",
    "La función `linspace` permite crear un arreglo indicando el número de elementos de la secuencia. La función recibe como argumentos:\n",
    "* **num**: número de elementos.\n",
    "* **endpoint**: boolean para incluir la cota superior `b`, por default `True`.\n",
    "* **retstep**: boolean para devolver el paso, por default `False`.\n",
    "```python\n",
    "np.linspace(a, b, num, endpoint, retstep) # Secuencia desde a hasta b con num elementos\n",
    "```"
   ]
  },
  {
   "cell_type": "code",
   "execution_count": 8,
   "id": "ef5d05a6",
   "metadata": {
    "scrolled": true
   },
   "outputs": [
    {
     "data": {
      "text/plain": [
       "array([ 1, 17, 33, 50], dtype=int64)"
      ]
     },
     "execution_count": 8,
     "metadata": {},
     "output_type": "execute_result"
    }
   ],
   "source": [
    "np.linspace(1, 50, num=4, dtype='int64')"
   ]
  },
  {
   "cell_type": "markdown",
   "id": "d1f29168",
   "metadata": {},
   "source": [
    "## Arreglos de 0's y 1's\n",
    "Para crear un arreglo con cero's o uno's utilizamos la función `zeros()` o `ones()`, respectivamente, y una tupla shape como argumento.\n",
    "```python\n",
    "np.zeros(shape) # Arreglo con ceros\n",
    "np.ones(shape) # Arreglo con unos\n",
    "```"
   ]
  },
  {
   "cell_type": "code",
   "execution_count": 9,
   "id": "4fb818b6",
   "metadata": {},
   "outputs": [
    {
     "data": {
      "text/plain": [
       "array([[0., 0., 0.],\n",
       "       [0., 0., 0.],\n",
       "       [0., 0., 0.]])"
      ]
     },
     "execution_count": 9,
     "metadata": {},
     "output_type": "execute_result"
    }
   ],
   "source": [
    "np.zeros((3,3))"
   ]
  },
  {
   "cell_type": "code",
   "execution_count": 10,
   "id": "ee523a57",
   "metadata": {},
   "outputs": [
    {
     "data": {
      "text/plain": [
       "array([[1., 1., 1.],\n",
       "       [1., 1., 1.],\n",
       "       [1., 1., 1.]])"
      ]
     },
     "execution_count": 10,
     "metadata": {},
     "output_type": "execute_result"
    }
   ],
   "source": [
    "np.ones((3,3))"
   ]
  },
  {
   "cell_type": "markdown",
   "id": "f7af95e6",
   "metadata": {},
   "source": [
    "La función `eye()` crea una matriz con cero's, y con uno's en la $k$-ésima diagonal. La diagonal principal cona $k=0$.\n",
    "```python\n",
    "np.eye(n, m, k) # Matriz de n x m con la k-esima diagonal con unos; por default k = 0\n",
    "```"
   ]
  },
  {
   "cell_type": "code",
   "execution_count": 11,
   "id": "8fe8dfb8",
   "metadata": {},
   "outputs": [
    {
     "data": {
      "text/plain": [
       "array([[1., 0., 0.],\n",
       "       [0., 1., 0.],\n",
       "       [0., 0., 1.]])"
      ]
     },
     "execution_count": 11,
     "metadata": {},
     "output_type": "execute_result"
    }
   ],
   "source": [
    "np.eye(3,3, k=0)"
   ]
  },
  {
   "cell_type": "markdown",
   "id": "5c45f29b",
   "metadata": {},
   "source": [
    "## Arreglos definidos por el usuario y aleatorios\n",
    "La función `full()` permite crear un arreglo de forma shape con valores y tipo definidos por el usuario.\n",
    "```python\n",
    "np.full(shape, fill_value, dtype)\n",
    "```"
   ]
  },
  {
   "cell_type": "code",
   "execution_count": 12,
   "id": "08725415",
   "metadata": {},
   "outputs": [
    {
     "data": {
      "text/plain": [
       "array([[3, 3, 3, 3],\n",
       "       [3, 3, 3, 3]], dtype=int64)"
      ]
     },
     "execution_count": 12,
     "metadata": {},
     "output_type": "execute_result"
    }
   ],
   "source": [
    "np.full((2,4), fill_value=3, dtype='int64')"
   ]
  },
  {
   "cell_type": "markdown",
   "id": "2d215547",
   "metadata": {},
   "source": [
    "La función `empty()` genera un arreglo no inicializado, es decir, reutiliza valores generados por el hardware o sistema operativo y sus valors no son confiables. Sin embargo, es una manera rápida de generar un arreglo.\n",
    "```python\n",
    "np.empty(shape) # Arreglo no inicializado\n",
    "```"
   ]
  },
  {
   "cell_type": "markdown",
   "id": "e061195f",
   "metadata": {},
   "source": [
    "La función `random()` genera un arreglo con valores pseudoaleatorios de forma shape.\n",
    "```python\n",
    "np.random.random(shape) # Arreglo aleatorio con valores entre 0 y 1\n",
    "```"
   ]
  },
  {
   "cell_type": "markdown",
   "id": "8e1d8031",
   "metadata": {},
   "source": [
    "## Índices\n",
    "Indexar un arreglo de numpy es similar a una lista de python. El índice siempre comienza en 0 de izquierda a derecha, y con -1 de derecha a izquierda.\n",
    "* Para indexar uno o más elementos se utilizan comas\n",
    "```python\n",
    "array[x, ...] = ... # Acceder a los elementos y reasignar\n",
    "```\n",
    "* Para indexar un rango se utilizan colons\n",
    "```python\n",
    "array[start:stop:step] = ... # Acceder a una secuencia y reasignar\n",
    "```\n",
    "**Los arreglos se manejan siempre desde la memoria**, por lo que dos variables con una dirección de memoria relativa al mismo arreglo, ambos modificarán el mismo objeto. Para tener objetos separados se puede generar una copia:\n",
    "```python\n",
    "new_array = array.copy() # Crear copia\n",
    "```\n",
    "## Índices de matrices\n",
    "Las matrices requieren de dos índices para seleccionar uno o más elementos. Como norma general pueden existir los siguientes casos:\n",
    "* Indexar un elemento\n",
    "```python\n",
    "array[x,y] = ... # Acceder a un elemento y reasignar\n",
    "```\n",
    "* Indexar un arreglo con un *slice*\n",
    "```python\n",
    "array[x, a:b] = ... # Acceder a un arreglo unidimensional\n",
    "```\n",
    "* Indexar una matriz\n",
    "```python\n",
    "array[a:b, i:j] = ... # Acceder a una matriz\n",
    "```\n",
    "## Índices booleanos\n",
    "Un booleano que contiene involucra un arreglo devuelve un arreglo con valores True/False.\n",
    "```python\n",
    "bool_array # Booleano que involucra un arreglo; retorna un arreglo con valores True/False\n",
    "```\n",
    "Por lo tanto, indexar un arreglo con un booleano devuelve los valores que satisfacen la condicion.\n",
    "```python\n",
    "new_array = array[bool_array] # Indexar bajo la condicion bool; se asigna un arreglo con los valores que satisfacen bool\n",
    "```\n",
    "Si se desea convertir un arreglo booleano con 1's y 0's se utiliza la función `astype(int)`:\n",
    "```python\n",
    "array.astype(int) # Convertir array a 1's y 0's\n",
    "```\n",
    "Considera que:\n",
    "* Indexar arreglos con booleanos *siempre* genera una copia.\n",
    "* Indexar arreglos con booleanos que involucran operados and"
   ]
  },
  {
   "cell_type": "code",
   "execution_count": null,
   "id": "32cf1cf1",
   "metadata": {},
   "outputs": [],
   "source": []
  }
 ],
 "metadata": {
  "kernelspec": {
   "display_name": "Python [conda env:conda_env]",
   "language": "python",
   "name": "conda-env-conda_env-py"
  },
  "language_info": {
   "codemirror_mode": {
    "name": "ipython",
    "version": 3
   },
   "file_extension": ".py",
   "mimetype": "text/x-python",
   "name": "python",
   "nbconvert_exporter": "python",
   "pygments_lexer": "ipython3",
   "version": "3.12.4"
  }
 },
 "nbformat": 4,
 "nbformat_minor": 5
}
