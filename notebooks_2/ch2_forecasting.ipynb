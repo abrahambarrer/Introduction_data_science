{
 "cells": [
  {
   "cell_type": "code",
   "execution_count": 1,
   "id": "68c23fce",
   "metadata": {},
   "outputs": [],
   "source": [
    "import pandas as pd"
   ]
  },
  {
   "cell_type": "markdown",
   "id": "bf618ff2",
   "metadata": {},
   "source": [
    "# Forecasting\n",
    "Se pueden utilizar los datos del pasado para predecir los datos del futuro. Uno de los mejores métodos para la predicción, es la **regresión lineal**.\n",
    "\n",
    "Vamos a utilizar los datos de un modelo de negocios estandard: compra y venta de vehículos a bajo precio y su reventa a mayor precio."
   ]
  },
  {
   "cell_type": "markdown",
   "id": "b6458fb5",
   "metadata": {},
   "source": [
    "## Cleaning the data\n",
    "Vamos a cargar el dataset."
   ]
  },
  {
   "cell_type": "code",
   "execution_count": 9,
   "id": "4aff0a8f",
   "metadata": {},
   "outputs": [
    {
     "data": {
      "text/html": [
       "<div>\n",
       "<style scoped>\n",
       "    .dataframe tbody tr th:only-of-type {\n",
       "        vertical-align: middle;\n",
       "    }\n",
       "\n",
       "    .dataframe tbody tr th {\n",
       "        vertical-align: top;\n",
       "    }\n",
       "\n",
       "    .dataframe thead th {\n",
       "        text-align: right;\n",
       "    }\n",
       "</style>\n",
       "<table border=\"1\" class=\"dataframe\">\n",
       "  <thead>\n",
       "    <tr style=\"text-align: right;\">\n",
       "      <th></th>\n",
       "      <th>Month</th>\n",
       "      <th>Monthly car sales in Quebec 1960-1968</th>\n",
       "    </tr>\n",
       "  </thead>\n",
       "  <tbody>\n",
       "    <tr>\n",
       "      <th>0</th>\n",
       "      <td>1960-01</td>\n",
       "      <td>6550.0</td>\n",
       "    </tr>\n",
       "    <tr>\n",
       "      <th>1</th>\n",
       "      <td>1960-02</td>\n",
       "      <td>8728.0</td>\n",
       "    </tr>\n",
       "    <tr>\n",
       "      <th>2</th>\n",
       "      <td>1960-03</td>\n",
       "      <td>12026.0</td>\n",
       "    </tr>\n",
       "    <tr>\n",
       "      <th>3</th>\n",
       "      <td>1960-04</td>\n",
       "      <td>14395.0</td>\n",
       "    </tr>\n",
       "    <tr>\n",
       "      <th>4</th>\n",
       "      <td>1960-05</td>\n",
       "      <td>14587.0</td>\n",
       "    </tr>\n",
       "  </tbody>\n",
       "</table>\n",
       "</div>"
      ],
      "text/plain": [
       "     Month  Monthly car sales in Quebec 1960-1968\n",
       "0  1960-01                                 6550.0\n",
       "1  1960-02                                 8728.0\n",
       "2  1960-03                                12026.0\n",
       "3  1960-04                                14395.0\n",
       "4  1960-05                                14587.0"
      ]
     },
     "execution_count": 9,
     "metadata": {},
     "output_type": "execute_result"
    }
   ],
   "source": [
    "carsales = pd.read_csv('d:\\\\cursos\\\\data_science\\\\data\\\\carsales.csv')\n",
    "carsales.head()"
   ]
  },
  {
   "cell_type": "markdown",
   "id": "81be2ca6",
   "metadata": {},
   "source": [
    "Vamos a ajustar algunos aspectos del dataset para un mejor desempeño."
   ]
  },
  {
   "cell_type": "code",
   "execution_count": 13,
   "id": "3290d01a",
   "metadata": {},
   "outputs": [
    {
     "data": {
      "text/html": [
       "<div>\n",
       "<style scoped>\n",
       "    .dataframe tbody tr th:only-of-type {\n",
       "        vertical-align: middle;\n",
       "    }\n",
       "\n",
       "    .dataframe tbody tr th {\n",
       "        vertical-align: top;\n",
       "    }\n",
       "\n",
       "    .dataframe thead th {\n",
       "        text-align: right;\n",
       "    }\n",
       "</style>\n",
       "<table border=\"1\" class=\"dataframe\">\n",
       "  <thead>\n",
       "    <tr style=\"text-align: right;\">\n",
       "      <th></th>\n",
       "      <th>month</th>\n",
       "      <th>sales</th>\n",
       "    </tr>\n",
       "  </thead>\n",
       "  <tbody>\n",
       "    <tr>\n",
       "      <th>104</th>\n",
       "      <td>1968-09</td>\n",
       "      <td>14385.0</td>\n",
       "    </tr>\n",
       "    <tr>\n",
       "      <th>105</th>\n",
       "      <td>1968-10</td>\n",
       "      <td>21342.0</td>\n",
       "    </tr>\n",
       "    <tr>\n",
       "      <th>106</th>\n",
       "      <td>1968-11</td>\n",
       "      <td>17180.0</td>\n",
       "    </tr>\n",
       "    <tr>\n",
       "      <th>107</th>\n",
       "      <td>1968-12</td>\n",
       "      <td>14577.0</td>\n",
       "    </tr>\n",
       "    <tr>\n",
       "      <th>108</th>\n",
       "      <td>Monthly car sales in Quebec 1960-1968</td>\n",
       "      <td>NaN</td>\n",
       "    </tr>\n",
       "  </tbody>\n",
       "</table>\n",
       "</div>"
      ],
      "text/plain": [
       "                                     month    sales\n",
       "104                                1968-09  14385.0\n",
       "105                                1968-10  21342.0\n",
       "106                                1968-11  17180.0\n",
       "107                                1968-12  14577.0\n",
       "108  Monthly car sales in Quebec 1960-1968      NaN"
      ]
     },
     "execution_count": 13,
     "metadata": {},
     "output_type": "execute_result"
    }
   ],
   "source": [
    "carsales.columns = ['month', 'sales']\n",
    "carsales.tail()"
   ]
  },
  {
   "cell_type": "markdown",
   "id": "80cb3323",
   "metadata": {},
   "source": [
    "Removemos la última fila que no contiene datos."
   ]
  },
  {
   "cell_type": "code",
   "execution_count": 16,
   "id": "d47d582f",
   "metadata": {},
   "outputs": [
    {
     "data": {
      "text/html": [
       "<div>\n",
       "<style scoped>\n",
       "    .dataframe tbody tr th:only-of-type {\n",
       "        vertical-align: middle;\n",
       "    }\n",
       "\n",
       "    .dataframe tbody tr th {\n",
       "        vertical-align: top;\n",
       "    }\n",
       "\n",
       "    .dataframe thead th {\n",
       "        text-align: right;\n",
       "    }\n",
       "</style>\n",
       "<table border=\"1\" class=\"dataframe\">\n",
       "  <thead>\n",
       "    <tr style=\"text-align: right;\">\n",
       "      <th></th>\n",
       "      <th>month</th>\n",
       "      <th>sales</th>\n",
       "    </tr>\n",
       "  </thead>\n",
       "  <tbody>\n",
       "    <tr>\n",
       "      <th>103</th>\n",
       "      <td>1968-08</td>\n",
       "      <td>16722.0</td>\n",
       "    </tr>\n",
       "    <tr>\n",
       "      <th>104</th>\n",
       "      <td>1968-09</td>\n",
       "      <td>14385.0</td>\n",
       "    </tr>\n",
       "    <tr>\n",
       "      <th>105</th>\n",
       "      <td>1968-10</td>\n",
       "      <td>21342.0</td>\n",
       "    </tr>\n",
       "    <tr>\n",
       "      <th>106</th>\n",
       "      <td>1968-11</td>\n",
       "      <td>17180.0</td>\n",
       "    </tr>\n",
       "    <tr>\n",
       "      <th>107</th>\n",
       "      <td>1968-12</td>\n",
       "      <td>14577.0</td>\n",
       "    </tr>\n",
       "  </tbody>\n",
       "</table>\n",
       "</div>"
      ],
      "text/plain": [
       "       month    sales\n",
       "103  1968-08  16722.0\n",
       "104  1968-09  14385.0\n",
       "105  1968-10  21342.0\n",
       "106  1968-11  17180.0\n",
       "107  1968-12  14577.0"
      ]
     },
     "execution_count": 16,
     "metadata": {},
     "output_type": "execute_result"
    }
   ],
   "source": [
    "carsales = carsales.loc[0:107, :].copy()\n",
    "carsales.tail()"
   ]
  },
  {
   "cell_type": "markdown",
   "id": "85cc7dbe",
   "metadata": {},
   "source": [
    "Otro aspecto a destacar es el formato de fechas. En los datasets los formatos de fechas suelen ser problemáticos, puesto que pueden estar en formatos distintos del numérico, además pueden no seguir la lógica de una fecha (para los meses 12 + 1 = 1). "
   ]
  },
  {
   "cell_type": "code",
   "execution_count": 17,
   "id": "bfd34e80",
   "metadata": {},
   "outputs": [
    {
     "data": {
      "text/html": [
       "<div>\n",
       "<style scoped>\n",
       "    .dataframe tbody tr th:only-of-type {\n",
       "        vertical-align: middle;\n",
       "    }\n",
       "\n",
       "    .dataframe tbody tr th {\n",
       "        vertical-align: top;\n",
       "    }\n",
       "\n",
       "    .dataframe thead th {\n",
       "        text-align: right;\n",
       "    }\n",
       "</style>\n",
       "<table border=\"1\" class=\"dataframe\">\n",
       "  <thead>\n",
       "    <tr style=\"text-align: right;\">\n",
       "      <th></th>\n",
       "      <th>month</th>\n",
       "      <th>sales</th>\n",
       "      <th>period</th>\n",
       "    </tr>\n",
       "  </thead>\n",
       "  <tbody>\n",
       "    <tr>\n",
       "      <th>0</th>\n",
       "      <td>1960-01</td>\n",
       "      <td>6550.0</td>\n",
       "      <td>0</td>\n",
       "    </tr>\n",
       "    <tr>\n",
       "      <th>1</th>\n",
       "      <td>1960-02</td>\n",
       "      <td>8728.0</td>\n",
       "      <td>1</td>\n",
       "    </tr>\n",
       "    <tr>\n",
       "      <th>2</th>\n",
       "      <td>1960-03</td>\n",
       "      <td>12026.0</td>\n",
       "      <td>2</td>\n",
       "    </tr>\n",
       "    <tr>\n",
       "      <th>3</th>\n",
       "      <td>1960-04</td>\n",
       "      <td>14395.0</td>\n",
       "      <td>3</td>\n",
       "    </tr>\n",
       "    <tr>\n",
       "      <th>4</th>\n",
       "      <td>1960-05</td>\n",
       "      <td>14587.0</td>\n",
       "      <td>4</td>\n",
       "    </tr>\n",
       "  </tbody>\n",
       "</table>\n",
       "</div>"
      ],
      "text/plain": [
       "     month    sales  period\n",
       "0  1960-01   6550.0       0\n",
       "1  1960-02   8728.0       1\n",
       "2  1960-03  12026.0       2\n",
       "3  1960-04  14395.0       3\n",
       "4  1960-05  14587.0       4"
      ]
     },
     "execution_count": 17,
     "metadata": {},
     "output_type": "execute_result"
    }
   ],
   "source": [
    "carsales['period'] = list(range(108))\n",
    "carsales.head()"
   ]
  },
  {
   "cell_type": "markdown",
   "id": "03bbb68a",
   "metadata": {},
   "source": [
    "## Plotting data to find trends\n",
    "Es buena práctica *visualizar* los datos pronto para encontrar patrones."
   ]
  },
  {
   "cell_type": "code",
   "execution_count": 18,
   "id": "8ae0cc2b",
   "metadata": {},
   "outputs": [
    {
     "data": {
      "image/png": "[encoded data removed]",
      "text/plain": [
       "<Figure size 640x480 with 1 Axes>"
      ]
     },
     "metadata": {},
     "output_type": "display_data"
    }
   ],
   "source": [
    "import matplotlib.pyplot as plt\n",
    "plt.scatter(carsales['period'], carsales['sales'])\n",
    "plt.xlabel('Month')\n",
    "plt.ylabel('Sales')\n",
    "plt.title('Sales per month')\n",
    "plt.show()"
   ]
  },
  {
   "cell_type": "markdown",
   "id": "5fece9ae",
   "metadata": {},
   "source": [
    "## Regresión lineal\n",
    "La regresión lineal es una técnica para poner orden en el caos. A veces se denomina la línea de mejor encaje, debido a que representa una línea en la que ningún dato está particularmente alejado de la línea."
   ]
  },
  {
   "cell_type": "code",
   "execution_count": null,
   "id": "a3b18034",
   "metadata": {},
   "outputs": [],
   "source": []
  }
 ],
 "metadata": {
  "kernelspec": {
   "display_name": "Python [conda env:ambiente]",
   "language": "python",
   "name": "conda-env-ambiente-py"
  },
  "language_info": {
   "codemirror_mode": {
    "name": "ipython",
    "version": 3
   },
   "file_extension": ".py",
   "mimetype": "text/x-python",
   "name": "python",
   "nbconvert_exporter": "python",
   "pygments_lexer": "ipython3",
   "version": "3.12.4"
  }
 },
 "nbformat": 4,
 "nbformat_minor": 5
}
