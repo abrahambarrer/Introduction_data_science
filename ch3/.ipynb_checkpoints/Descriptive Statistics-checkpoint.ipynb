{
 "cells": [
  {
   "cell_type": "code",
   "execution_count": 1,
   "id": "3ff481d7-1439-40b4-be70-c24d10935b40",
   "metadata": {},
   "outputs": [],
   "source": [
    "import pandas as pd\n",
    "import numpy as np\n",
    "import matplotlib.pyplot as plt\n",
    "import seaborn as sns"
   ]
  },
  {
   "cell_type": "markdown",
   "id": "0d6f5712-9ec9-452d-a757-618895545bf5",
   "metadata": {},
   "source": [
    "# Estadística descriptiva\n",
    "En la estadística descriptiva:\n",
    "* Los conclusiones son acerca de los datos, nunca más allá.\n",
    "* No alcanzamos conclusiones sobre nuestras hipótesis.\n",
    "\n",
    "En cambio, describimos cuantitativamente un conjunto de datos.\n",
    "* Población (population): colección de objetos.\n",
    "* Muestra (sample): parte de la población.\n",
    "\n",
    "Para describir un set de datos y hacer conclusiones seguimos los siguientes pasos:\n",
    "1. Preparación de los datos.\n",
    "2. Estadística descriptiva\n",
    "\n",
    "Con el fin de describir y resumir de manera concisa los datos y una manera de visualizarlos."
   ]
  },
  {
   "cell_type": "markdown",
   "id": "60f80a7a-3eaf-4ffe-8ecf-0dd161f61f77",
   "metadata": {},
   "source": [
    "## Preparación de los datos\n",
    "Estos son algunos pasos comunes al preparar los datos:\n",
    "* **Obtener los datos:** los datos pueden obtenerse de un documento o rastreando en la web.\n",
    "* **Analizar los datos.**\n",
    "* **Limpiar los datos:** los datos de encuestas suelen estar incompletos. La estrategia más simple consiste en eliminar los registros incompletos.\n",
    "* **Construir una estructura de datos:** es ideal almacenar los datos en una estructura que permita el análisis. Si hay espacio en memoria se genera una estructura de datos. Si no, se crea una base de datos (que es una estructura fuera de memoria)."
   ]
  },
  {
   "cell_type": "code",
   "execution_count": 2,
   "id": "d8075b2d-1235-47aa-9239-72f8a8cf360c",
   "metadata": {},
   "outputs": [],
   "source": [
    "def chr_int(a):\n",
    "    if a.isdigit():\n",
    "        return int(a)\n",
    "    else:\n",
    "        return 0\n",
    "with open('adult.data', 'r') as file:\n",
    "    data = []\n",
    "    for line in file:\n",
    "        data1 = line.split(', ')\n",
    "        if len(data1) == 15:\n",
    "            data.append([\n",
    "                chr_int(data1[0]), data1[1],\n",
    "                chr_int(data1[2]), data1[3],\n",
    "                chr_int(data1[4]), data1[5],\n",
    "                data1[6], data1[7], data1[8],\n",
    "                data1[9], chr_int(data1[10]),\n",
    "                chr_int(data1[11]),\n",
    "                chr_int(data1[12]),\n",
    "                data1[13], data1[14]\n",
    "            ])"
   ]
  },
  {
   "cell_type": "markdown",
   "id": "b9523e9a-8868-4a63-b03e-bd620699c523",
   "metadata": {},
   "source": [
    "En esta línea se utilizó la sentencia **`with`** para abrir el documento y cerrarlo de manera automática. La función `split` separa una cadena de texto mientras que `isdigit` devuelve un booleano si una cadena contiene solo números. Al revisar los datos:"
   ]
  },
  {
   "cell_type": "code",
   "execution_count": 3,
   "id": "0dc250c1-9c05-47de-a899-fb182e1b1359",
   "metadata": {},
   "outputs": [
    {
     "name": "stdout",
     "output_type": "stream",
     "text": [
      "[[50, 'Self-emp-not-inc', 83311, 'Bachelors', 13, 'Married-civ-spouse', 'Exec-managerial', 'Husband', 'White', 'Male', 0, 0, 13, 'United-States', '<=50K\\n']]\n"
     ]
    }
   ],
   "source": [
    "print(data[1:2])"
   ]
  },
  {
   "cell_type": "markdown",
   "id": "af3b57c6-1ffc-4fcc-b823-14d5b34493be",
   "metadata": {},
   "source": [
    "Para manejar los datos fácilmente utilizamos un **dataframe**:"
   ]
  },
  {
   "cell_type": "code",
   "execution_count": 4,
   "id": "a6cf415a-2d44-467e-aa7e-bbd575a0f681",
   "metadata": {},
   "outputs": [],
   "source": [
    "df = pd.DataFrame(data, columns = [\n",
    "    'age','type_employer','fnlwgt',\n",
    "    'education','education_num','marital',\n",
    "    'occupation',' relationship','race',\n",
    "    'sex','capital_gain','capital_loss',\n",
    "    'hr_per_week','country','income'\n",
    "    ])"
   ]
  },
  {
   "cell_type": "markdown",
   "id": "5efe1517-7437-4788-85d8-351a8b6cf222",
   "metadata": {},
   "source": [
    "El atributo `shape` muestra el número de muestras (en filas) y de características (en columnas)."
   ]
  },
  {
   "cell_type": "code",
   "execution_count": 5,
   "id": "d8b6dbc9-6ec9-401a-ad4f-4df98a6da3ba",
   "metadata": {},
   "outputs": [
    {
     "data": {
      "text/plain": [
       "(32561, 15)"
      ]
     },
     "execution_count": 5,
     "metadata": {},
     "output_type": "execute_result"
    }
   ],
   "source": [
    "df.shape"
   ]
  },
  {
   "cell_type": "markdown",
   "id": "b0b588c4-6a4a-49d0-81dd-dbaabc1fa5cd",
   "metadata": {},
   "source": [
    "Para manipular los datos podemos por ejemplo agruparlos por país. Además para contar el número de registros por cada país utilizamos la función `size`."
   ]
  },
  {
   "cell_type": "code",
   "execution_count": 6,
   "id": "a2251606-38d7-4c20-9ff0-70147622eafb",
   "metadata": {},
   "outputs": [
    {
     "data": {
      "text/plain": [
       "country\n",
       "?           583\n",
       "Cambodia     19\n",
       "Canada      121\n",
       "China        75\n",
       "Columbia     59\n",
       "dtype: int64"
      ]
     },
     "execution_count": 6,
     "metadata": {},
     "output_type": "execute_result"
    }
   ],
   "source": [
    "counts = df.groupby('country').size()\n",
    "counts.head()"
   ]
  },
  {
   "cell_type": "markdown",
   "id": "cc12de96-a584-45fc-8944-26f5aa2a012d",
   "metadata": {},
   "source": [
    "Separamos los datos según el género másculino y femenino. Nótese que otra manera de seleccionar una columna es con la notación de atributo.\n",
    "```Python\n",
    "data.column # Atributo\n",
    "data['column'] # Corchete\n",
    "```"
   ]
  },
  {
   "cell_type": "code",
   "execution_count": 7,
   "id": "a3fa7501-d427-4784-8cef-1bd305a1778b",
   "metadata": {},
   "outputs": [
    {
     "name": "stdout",
     "output_type": "stream",
     "text": [
      "Male: (21790, 15) Female = (10771, 15)\n"
     ]
    }
   ],
   "source": [
    "ml = df[df.sex == 'Male']\n",
    "fm = df[df.sex == 'Female']\n",
    "print(f'Male: {ml.shape}', f'Female = {fm.shape}')"
   ]
  },
  {
   "cell_type": "markdown",
   "id": "d3b56d27-f06c-44d1-a694-2b22e7e607e0",
   "metadata": {},
   "source": [
    "Para separar por género y por altos ingresos utilizamos el operador de intersección de conjuntos `&`, para hallar el conjunto de individuos de un género con altos ingresos."
   ]
  },
  {
   "cell_type": "code",
   "execution_count": 8,
   "id": "cbac6936-55d3-43e2-82d0-7cbefce6ca14",
   "metadata": {},
   "outputs": [
    {
     "name": "stdout",
     "output_type": "stream",
     "text": [
      "Male: (6662, 15) Female = (1179, 15)\n"
     ]
    }
   ],
   "source": [
    "ml1 = df[(df.sex == 'Male') & (df.income == '>50K\\n')]\n",
    "fm1 = df[(df.sex == 'Female') & (df.income == '>50K\\n')]\n",
    "print(f'Male: {ml1.shape}', f'Female = {fm1.shape}')"
   ]
  },
  {
   "cell_type": "markdown",
   "id": "8cf57bd4-9594-4f3d-bd3f-29fa88bfa254",
   "metadata": {},
   "source": [
    "## Análisis exploratorio\n",
    "Los datos que provienen de medidas particulares de todos los individuos en una muestra representan nuestras observaciones de una característica. Este conjunto de medidas se llama **distribución de muestra** (o *sample distribution*), que representa aproximadamente a la **distribución de población** (o *population distribution*).\n",
    "\n",
    "El análisis exploratorio resume y permite la visualización de la distribución de la muestra para tentativamente establecer hipótesis de la distribución de población."
   ]
  },
  {
   "cell_type": "markdown",
   "id": "f9e30e90-27a7-4220-bd94-59f59bbcfdb9",
   "metadata": {},
   "source": [
    "### Resumir datos\n",
    "Los datos pueden entenderse como **cuantitativos** o **cualitativos**. Para la exploración de datos cualitativos un cálculo de la frecuencia es la mejor descripción no gráfica. Aquí se utiliza la función `len` para contar el número de elementos en cada dataframe."
   ]
  },
  {
   "cell_type": "code",
   "execution_count": 9,
   "id": "49ef9249-9279-459e-af0b-d926c433efdc",
   "metadata": {},
   "outputs": [
    {
     "name": "stdout",
     "output_type": "stream",
     "text": [
      "El porcentaje de personas con altos ingresos es 24 %.\n",
      "El porcentaje de hombres con altos ingresos es 30 %.\n",
      "El porcentaje de mujeres con altos ingresos es 10 %.\n"
     ]
    }
   ],
   "source": [
    "df1 = df[df.income == '>50K\\n']\n",
    "print('El porcentaje de personas con altos ingresos es',\n",
    "     int(len(df1) / float(len(df)) * 100), '%.')\n",
    "print('El porcentaje de hombres con altos ingresos es',\n",
    "     int(len(ml1) / float(len(ml)) * 100), '%.')\n",
    "print('El porcentaje de mujeres con altos ingresos es',\n",
    "     int(len(fm1) / float(len(fm)) * 100), '%.')"
   ]
  },
  {
   "cell_type": "markdown",
   "id": "07c57169-a007-4340-9cc1-033c31dd7d07",
   "metadata": {},
   "source": [
    "El análisis exploratorio de los datos de la muestra es una valoración preliminar a la distribución de población. Las características importantes de los datos ***cuantitativos*** son *mean*, *deviation*, *histograms*, *outliers*, etc. Las características de la muestra *son interesantes en la medida en que sean representativas de la población*."
   ]
  },
  {
   "cell_type": "markdown",
   "id": "63530d9e-9b27-43b2-9cbf-6e0c05cf8212",
   "metadata": {},
   "source": [
    "### Mean\n",
    "Un primer vistazo a los datos sugiere un estadístico de la muestra de datos tal como la **media**. Dado un conjunto de $n$ datos de la variable $x$, $\\{ x_i \\}$, $i=1,2,\\dots,n$, la media, $\\mu$, se define como la suma de los valores dividido entre el número de valores. O sea:\n",
    "$$\n",
    "\\mu = \\frac{1}{n} \\sum_{i=1}^{n}{x_i}\n",
    "$$\n",
    "La media se define como el valor dado por la ecuación anterior. El término promedio en realidad puede entenderse como cualquier valor que represente el dato central de la muestra."
   ]
  },
  {
   "cell_type": "code",
   "execution_count": 10,
   "id": "7083ef8b-b408-4a1c-abfe-e7541b98ddee",
   "metadata": {},
   "outputs": [
    {
     "name": "stdout",
     "output_type": "stream",
     "text": [
      "La edad promedio de hombres es: 39 .\n",
      "La edad promedio de hombres con alto ingreso es: 44 .\n",
      "La edad promedio de mujeres es: 36 .\n",
      "La edad promedio de mujeres con alto ingreso es: 42 .\n"
     ]
    }
   ],
   "source": [
    "print('La edad promedio de hombres es:', int(ml['age'].mean()), '.' )\n",
    "print('La edad promedio de hombres con alto ingreso es:', int(ml1['age'].mean()), '.')\n",
    "print('La edad promedio de mujeres es:', int(fm['age'].mean()), '.')\n",
    "print('La edad promedio de mujeres con alto ingreso es:', int(fm1['age'].mean()), '.')"
   ]
  },
  {
   "cell_type": "markdown",
   "id": "f0c4d741-7a14-4b2d-a291-fd7c0088b629",
   "metadata": {},
   "source": [
    "**¡Importante!**: No confundir la media muestral con la media poblacional. No son lo mismo."
   ]
  },
  {
   "cell_type": "markdown",
   "id": "c69b8a43-7bbc-4fc6-a4ce-3718b4ff9c6b",
   "metadata": {},
   "source": [
    "### Sample Variance\n",
    "La varianza muestral describe la separación de los datos. Se define como:\n",
    "$$\n",
    "\\sigma ^ 2 = \\frac{1}{n} \\sum_{i = 1}^{n}{(x_i - \\mu)^2}\n",
    "$$\n",
    "El valor $(x_i - \\mu)$ se denomina desviación de la media, por lo que la varianza muestral representa la media de las desviaciones al cuadrado. La raíz cuadrada de la varianza, $\\sigma$, se conoce como **desviación estándar**, y se utiliza porque la varianza es más difícil de interpretar.\n",
    "\n",
    "Los siguientes métodos permiten calcular la media, varianza y desviación estándar:\n",
    "```Python\n",
    "serie.mean() # Media\n",
    "serie.var() # Varianza\n",
    "serie.std() # Desviacion estandar\n",
    "```\n",
    "Por ejemplo, la media y varianza del número de horas que trabajan en el dataset:"
   ]
  },
  {
   "cell_type": "code",
   "execution_count": 11,
   "id": "d9e1d535-6cbd-4970-a3b6-6f496d68b1ef",
   "metadata": {},
   "outputs": [
    {
     "name": "stdout",
     "output_type": "stream",
     "text": [
      "Estadisticos para hombres: mu: 42.42808627810923 var: 146.88846717142022 std: 12.119755243874367 .\n",
      "Estadisticos para mujeres: mu: 36.410361154953115 var: 139.50679700047252 std: 11.81129954748725 .\n"
     ]
    }
   ],
   "source": [
    "ml_mu = ml['hr_per_week'].mean()\n",
    "ml_var = ml['hr_per_week'].var()\n",
    "ml_std = ml['hr_per_week'].std()\n",
    "fm_mu = fm['hr_per_week'].mean()\n",
    "fm_var = fm['hr_per_week'].var()\n",
    "fm_std = fm['hr_per_week'].std()\n",
    "print('Estadisticos para hombres: mu:', ml_mu, 'var:', ml_var, 'std:', ml_std, '.')\n",
    "print('Estadisticos para mujeres: mu:', fm_mu, 'var:', fm_var, 'std:', fm_std, '.')"
   ]
  },
  {
   "cell_type": "markdown",
   "id": "08c7a282-7e6e-44a9-8453-d3148882e626",
   "metadata": {},
   "source": [
    "### Sample median\n",
    "Los valores atípicos (*outliers*) pueden distorsionar el valor de $\\mu$, por lo que requerimos otra medida: **la mediana**. La mediana, $\\widetilde{x}$, toma el valor en medio de una lista de valores ordenados.\n",
    "```Python\n",
    "serie.median()\n",
    "```"
   ]
  },
  {
   "cell_type": "code",
   "execution_count": 12,
   "id": "217608d9-9188-431e-8b9e-0028f2bd8d0f",
   "metadata": {},
   "outputs": [
    {
     "name": "stdout",
     "output_type": "stream",
     "text": [
      "Megian age of men and women: 38.0 35.0\n",
      "Median age with high incomen of men and women: 44.0 41.0\n"
     ]
    }
   ],
   "source": [
    "ml_median = ml['age'].median()\n",
    "fm_median = fm['age'].median()\n",
    "print('Megian age of men and women:', ml_median, fm_median)\n",
    "ml1_median = ml1['age'].median()\n",
    "fm1_median = fm1['age'].median()\n",
    "print('Median age with high incomen of men and women:', ml1_median, fm1_median)"
   ]
  },
  {
   "cell_type": "markdown",
   "id": "87af850e-94ed-4237-997b-a27d3177e560",
   "metadata": {},
   "source": [
    "### Quantiles and percentiles\n",
    "Para observar cómo está repartida una distribución utilizamos cuantiles y percentiles. En general, si ordenamos el conjunto de datos $\\{ x_i \\}$, al encontrar $x_p$ tenemos que:\n",
    "* una *fracción* $p$ de los datos es menor o igual que $x_p$.\n",
    "* la *fracción* $(1-p)$ es mayor que $x_p$."
   ]
  },
  {
   "cell_type": "markdown",
   "id": "6e533024-12c7-41e5-9678-2a5d0b10d83d",
   "metadata": {},
   "source": [
    "## Data distributions\n",
    "Para inspeccionar los datos es posible hacer un histograma que muestra la frecuencia de cada valor."
   ]
  },
  {
   "cell_type": "code",
   "execution_count": 24,
   "id": "696e4a4c-9eda-40fa-8f7b-2821b11fa2e8",
   "metadata": {},
   "outputs": [
    {
     "data": {
      "image/png": "[encoded data removed]",
      "text/plain": [
       "<Figure size 640x480 with 1 Axes>"
      ]
     },
     "metadata": {},
     "output_type": "display_data"
    }
   ],
   "source": [
    "ml_age = ml['age']\n",
    "ml_age.hist(density = 0, histtype = 'stepfilled', bins = 20)\n",
    "\n",
    "plt.xlabel('Age',fontsize=15)\n",
    "plt.ylabel('Male samples',fontsize=15)\n",
    "plt.show()"
   ]
  },
  {
   "cell_type": "code",
   "execution_count": 23,
   "id": "beb4c9af-ea04-4ba4-a527-cf8b137f520a",
   "metadata": {},
   "outputs": [
    {
     "data": {
      "image/png": "[encoded data removed]",
      "text/plain": [
       "<Figure size 640x480 with 1 Axes>"
      ]
     },
     "metadata": {},
     "output_type": "display_data"
    }
   ],
   "source": [
    "fm_age = fm['age']\n",
    "fm_age.hist(density = 0, histtype = 'stepfilled', bins = 20)\n",
    "\n",
    "plt.xlabel('Age',fontsize=15)\n",
    "plt.ylabel('Female samples',fontsize=15)\n",
    "plt.show()"
   ]
  },
  {
   "cell_type": "markdown",
   "id": "4ba1dbab-de93-41bf-8da8-318d8581f8e5",
   "metadata": {},
   "source": [
    "Podemos visualizar ambos histogramas superpuestos (utiliza el paquete `seaborn`)."
   ]
  },
  {
   "cell_type": "code",
   "execution_count": 28,
   "id": "97d378d7-082c-4e67-849f-0ef367af6341",
   "metadata": {},
   "outputs": [
    {
     "data": {
      "image/png": "[encoded data removed]",
      "text/plain": [
       "<Figure size 640x480 with 1 Axes>"
      ]
     },
     "metadata": {},
     "output_type": "display_data"
    }
   ],
   "source": [
    "fm_age.hist(density = 0, histtype = 'stepfilled', alpha = .5, bins = 20)\n",
    "ml_age.hist(density = 0, histtype = 'stepfilled', alpha = .5, color = sns.desaturate('indianred', .75),bins = 10)\n",
    "\n",
    "plt.xlabel('Age',fontsize=15)\n",
    "plt.ylabel('Samples',fontsize=15)\n",
    "plt.show()"
   ]
  },
  {
   "cell_type": "markdown",
   "id": "5b2f26ca-58f1-4a0c-82a2-509014908e82",
   "metadata": {},
   "source": [
    "El histograma puede ser *normalizado* dividiendo entre $n$ el número de muestras. Este histograma se conoce como **probability mass function** (PMF)."
   ]
  },
  {
   "cell_type": "code",
   "execution_count": 29,
   "id": "84f31c06-e7cd-4c90-a4ba-078abd162c1c",
   "metadata": {},
   "outputs": [
    {
     "data": {
      "image/png": "[encoded data removed]",
      "text/plain": [
       "<Figure size 640x480 with 1 Axes>"
      ]
     },
     "metadata": {},
     "output_type": "display_data"
    }
   ],
   "source": [
    "fm_age.hist(density = 1, histtype = 'stepfilled', alpha = .5, bins = 20)\n",
    "ml_age.hist(density = 1, histtype = 'stepfilled', alpha = .5, color = sns.desaturate('indianred', .75),bins = 10)\n",
    "\n",
    "plt.xlabel('Age',fontsize=15)\n",
    "plt.ylabel('PMF',fontsize=15)\n",
    "plt.show()"
   ]
  },
  {
   "cell_type": "markdown",
   "id": "f367a58e-5e72-44d5-b41b-43b81066e154",
   "metadata": {},
   "source": [
    "Otro histograma disponible es **Cumulative Distribution Function** (CDF) que describe la probabilidad de que una variable aleatoria $X$ tenga un valor menor o igual que $x$."
   ]
  },
  {
   "cell_type": "code",
   "execution_count": 31,
   "id": "c0b767e1-f467-441e-80ac-0e9a30855135",
   "metadata": {},
   "outputs": [
    {
     "data": {
      "image/png": "[encoded data removed]",
      "text/plain": [
       "<Figure size 640x480 with 1 Axes>"
      ]
     },
     "metadata": {},
     "output_type": "display_data"
    }
   ],
   "source": [
    "fm_age.hist(density = 1, histtype = 'step', cumulative = True, linewidth = 3.5, alpha = .5, bins = 20)\n",
    "ml_age.hist(density = 1, histtype = 'step', cumulative = True, linewidth = 3.5, alpha = .5, color = sns.desaturate('indianred', .75),bins = 10)\n",
    "\n",
    "plt.xlabel('Age',fontsize=15)\n",
    "plt.ylabel('CDF',fontsize=15)\n",
    "plt.show()"
   ]
  }
 ],
 "metadata": {
  "kernelspec": {
   "display_name": "Python 3 (ipykernel)",
   "language": "python",
   "name": "python3"
  },
  "language_info": {
   "codemirror_mode": {
    "name": "ipython",
    "version": 3
   },
   "file_extension": ".py",
   "mimetype": "text/x-python",
   "name": "python",
   "nbconvert_exporter": "python",
   "pygments_lexer": "ipython3",
   "version": "3.11.7"
  }
 },
 "nbformat": 4,
 "nbformat_minor": 5
}
